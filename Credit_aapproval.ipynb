{
 "cells": [
  {
   "cell_type": "code",
   "execution_count": 1,
   "id": "17d564c7-bbe9-4004-9a42-53e123c7af1e",
   "metadata": {},
   "outputs": [
    {
     "name": "stdout",
     "output_type": "stream",
     "text": [
      "        loan_amnt  funded_amnt  funded_amnt_inv  term  int_rate  installment  \\\n",
      "0            5000         5000           4975.0     1     10.65       162.87   \n",
      "1            2500         2500           2500.0     2     15.27        59.83   \n",
      "2            2400         2400           2400.0     1     15.96        84.33   \n",
      "3           10000        10000          10000.0     1     13.49       339.31   \n",
      "4            3000         3000           3000.0     2     12.69        67.79   \n",
      "...           ...          ...              ...   ...       ...          ...   \n",
      "461092      18400        18400          18400.0     2     14.47       432.64   \n",
      "461093      22000        22000          22000.0     2     19.97       582.50   \n",
      "461094      20700        20700          20700.0     2     16.99       514.34   \n",
      "461095       2000         2000           2000.0     1      7.90        62.59   \n",
      "461096      10000        10000           9975.0     1     19.20       367.58   \n",
      "\n",
      "        grade  home_ownership  annual_inc  verification_status  ...  \\\n",
      "0         2.2               1     24000.0                    1  ...   \n",
      "1         3.6               1     30000.0                    2  ...   \n",
      "2         3.8               1     12252.0                    3  ...   \n",
      "3         3.0               1     49200.0                    2  ...   \n",
      "4         2.8               1     80000.0                    2  ...   \n",
      "...       ...             ...         ...                  ...  ...   \n",
      "461092    3.2               3    110000.0                    2  ...   \n",
      "461093    4.8               3     78000.0                    1  ...   \n",
      "461094    4.0               3     46000.0                    1  ...   \n",
      "461095    1.6               2     83000.0                    1  ...   \n",
      "461096    4.4               3     46000.0                    1  ...   \n",
      "\n",
      "        last_pymnt_amnt  last_credit_pull_d  policy_code  application_type  \\\n",
      "0                     1                   1            1                 1   \n",
      "1                     2                   2            1                 1   \n",
      "2                     3                   1            1                 1   \n",
      "3                     4                   3            1                 1   \n",
      "4                     5                   1            1                 1   \n",
      "...                 ...                 ...          ...               ...   \n",
      "461092           138145                   1            1                 1   \n",
      "461093           195744                   1            1                 1   \n",
      "461094           170364                   8            1                 1   \n",
      "461095           195745                  12            1                 1   \n",
      "461096            30251                   1            1                 1   \n",
      "\n",
      "        acc_now_delinq  total_rev_hi_lim  emp_length_int  \\\n",
      "0                    0              5000              10   \n",
      "1                    0              2500               0   \n",
      "2                    0              2400              10   \n",
      "3                    0             10000              10   \n",
      "4                    0              3000               1   \n",
      "...                ...               ...             ...   \n",
      "461092               0             29900               4   \n",
      "461093               0             39400              10   \n",
      "461094               0             13100               7   \n",
      "461095               0             53100               3   \n",
      "461096               0             16000              10   \n",
      "\n",
      "        mths_since_earliest_cr_line  mths_since_issue_d  good_bad  \n",
      "0                               395                  72         1  \n",
      "1                               224                  72         0  \n",
      "2                               193                  72         1  \n",
      "3                               262                  72         1  \n",
      "4                               263                  72         1  \n",
      "...                             ...                 ...       ...  \n",
      "461092                          176                  47         1  \n",
      "461093                          246                  47         0  \n",
      "461094                          192                  47         1  \n",
      "461095                          178                  47         1  \n",
      "461096                          214                  47         1  \n",
      "\n",
      "[461097 rows x 44 columns]\n"
     ]
    }
   ],
   "source": [
    "\n",
    "import os\n",
    "import pandas as pd\n",
    "import numpy as np\n",
    "import seaborn as sns\n",
    "import matplotlib\n",
    "import sklearn\n",
    "from matplotlib import pyplot as plt\n",
    "from sklearn.model_selection import train_test_split\n",
    "from sklearn.model_selection import StratifiedShuffleSplit\n",
    "from sklearn.preprocessing import OneHotEncoder, LabelEncoder\n",
    "from sklearn.naive_bayes import GaussianNB \n",
    "from sklearn import metrics \n",
    "from sklearn.ensemble import RandomForestClassifier, ExtraTreesClassifier\n",
    "from sklearn.metrics import roc_auc_score\n",
    "from sklearn.metrics import log_loss\n",
    "from sklearn.model_selection import cross_val_score\n",
    "from sklearn.dummy import DummyClassifier\n",
    "\n",
    "df = pd.read_csv('Credit_informations.csv', sep=\";\")\n",
    "\n",
    "print (df)\n",
    "\n"
   ]
  },
  {
   "cell_type": "code",
   "execution_count": 2,
   "id": "4f20d39f-bd39-4119-ac09-2d1110462db0",
   "metadata": {},
   "outputs": [
    {
     "name": "stdout",
     "output_type": "stream",
     "text": [
      "loan_amnt                      0\n",
      "funded_amnt                    0\n",
      "funded_amnt_inv                0\n",
      "term                           0\n",
      "int_rate                       0\n",
      "installment                    0\n",
      "grade                          0\n",
      "home_ownership                 0\n",
      "annual_inc                     0\n",
      "verification_status            0\n",
      "issue_d                        0\n",
      "loan_status                    0\n",
      "pymnt_plan                     0\n",
      "purpose                        0\n",
      "zip_code                       0\n",
      "addr_state                     0\n",
      "dti                            0\n",
      "delinq_2yrs                    0\n",
      "earliest_cr_line               0\n",
      "inq_last_6mths                 0\n",
      "open_acc                       0\n",
      "pub_rec                        0\n",
      "revol_bal                      0\n",
      "revol_util                     0\n",
      "total_acc                      0\n",
      "initial_list_status            0\n",
      "out_prncp                      0\n",
      "total_pymnt_inv                0\n",
      "total_rec_prncp                0\n",
      "total_rec_int                  0\n",
      "total_rec_late_fee             0\n",
      "recoveries                     0\n",
      "collection_recovery_fee        0\n",
      "last_pymnt_d                   0\n",
      "last_pymnt_amnt                0\n",
      "last_credit_pull_d             0\n",
      "policy_code                    0\n",
      "application_type               0\n",
      "acc_now_delinq                 0\n",
      "total_rev_hi_lim               0\n",
      "emp_length_int                 0\n",
      "mths_since_earliest_cr_line    0\n",
      "mths_since_issue_d             0\n",
      "dtype: int64\n",
      "410862\n",
      "        loan_amnt  funded_amnt  funded_amnt_inv  term  int_rate  installment  \\\n",
      "0            5000         5000           4975.0     1     10.65       162.87   \n",
      "1            2500         2500           2500.0     2     15.27        59.83   \n",
      "2            2400         2400           2400.0     1     15.96        84.33   \n",
      "3           10000        10000          10000.0     1     13.49       339.31   \n",
      "4            3000         3000           3000.0     2     12.69        67.79   \n",
      "...           ...          ...              ...   ...       ...          ...   \n",
      "461092      18400        18400          18400.0     2     14.47       432.64   \n",
      "461093      22000        22000          22000.0     2     19.97       582.50   \n",
      "461094      20700        20700          20700.0     2     16.99       514.34   \n",
      "461095       2000         2000           2000.0     1      7.90        62.59   \n",
      "461096      10000        10000           9975.0     1     19.20       367.58   \n",
      "\n",
      "        grade  home_ownership  annual_inc  verification_status  ...  \\\n",
      "0         2.2               1     24000.0                    1  ...   \n",
      "1         3.6               1     30000.0                    2  ...   \n",
      "2         3.8               1     12252.0                    3  ...   \n",
      "3         3.0               1     49200.0                    2  ...   \n",
      "4         2.8               1     80000.0                    2  ...   \n",
      "...       ...             ...         ...                  ...  ...   \n",
      "461092    3.2               3    110000.0                    2  ...   \n",
      "461093    4.8               3     78000.0                    1  ...   \n",
      "461094    4.0               3     46000.0                    1  ...   \n",
      "461095    1.6               2     83000.0                    1  ...   \n",
      "461096    4.4               3     46000.0                    1  ...   \n",
      "\n",
      "        last_pymnt_d  last_pymnt_amnt  last_credit_pull_d  policy_code  \\\n",
      "0                  1                1                   1            1   \n",
      "1                  2                2                   2            1   \n",
      "2                  3                3                   1            1   \n",
      "3                  1                4                   3            1   \n",
      "4                  4                5                   1            1   \n",
      "...              ...              ...                 ...          ...   \n",
      "461092             4           138145                   1            1   \n",
      "461093            18           195744                   1            1   \n",
      "461094             4           170364                   8            1   \n",
      "461095            18           195745                  12            1   \n",
      "461096             4            30251                   1            1   \n",
      "\n",
      "        application_type  acc_now_delinq  total_rev_hi_lim  emp_length_int  \\\n",
      "0                      1               0              5000              10   \n",
      "1                      1               0              2500               0   \n",
      "2                      1               0              2400              10   \n",
      "3                      1               0             10000              10   \n",
      "4                      1               0              3000               1   \n",
      "...                  ...             ...               ...             ...   \n",
      "461092                 1               0             29900               4   \n",
      "461093                 1               0             39400              10   \n",
      "461094                 1               0             13100               7   \n",
      "461095                 1               0             53100               3   \n",
      "461096                 1               0             16000              10   \n",
      "\n",
      "        mths_since_earliest_cr_line  mths_since_issue_d  \n",
      "0                               395                  72  \n",
      "1                               224                  72  \n",
      "2                               193                  72  \n",
      "3                               262                  72  \n",
      "4                               263                  72  \n",
      "...                             ...                 ...  \n",
      "461092                          176                  47  \n",
      "461093                          246                  47  \n",
      "461094                          192                  47  \n",
      "461095                          178                  47  \n",
      "461096                          214                  47  \n",
      "\n",
      "[461097 rows x 43 columns]\n",
      "82134\n"
     ]
    }
   ],
   "source": [
    "from sklearn.model_selection import StratifiedShuffleSplit\n",
    "y = df['good_bad']\n",
    "df = df.drop('good_bad', axis=1)\n",
    "#print (df)\n",
    "df = df.dropna(axis=0,how='any')\n",
    "print(df.isnull().sum())\n",
    "print (y.sum())\n",
    "print (df)\n",
    "X_train_stratified, X_test_stratified, y_train_stratified, y_test_stratified = train_test_split(df, y, test_size=.2, shuffle=True)\n",
    "print(y_test_stratified.sum())\n",
    "\n",
    "\n",
    "\n",
    "\n",
    "X_train_stratified = np.asarray(X_train_stratified).astype(np.float32)\n",
    "X_test_stratified = np.asarray(X_test_stratified).astype(np.float32)\n",
    "y_train_stratified = np.asarray(y_train_stratified).astype(np.float32)\n",
    "y_test_stratified = np.asarray(y_test_stratified).astype(np.float32)\n",
    "\n",
    "\n",
    "\n"
   ]
  },
  {
   "cell_type": "code",
   "execution_count": null,
   "id": "6bd6cbd0-0457-4b58-830c-0f0c3866644a",
   "metadata": {},
   "outputs": [],
   "source": []
  },
  {
   "cell_type": "code",
   "execution_count": 3,
   "id": "bc266d10-63a9-4bf1-956c-a1f2175c8499",
   "metadata": {},
   "outputs": [],
   "source": [
    "# Import `Sequential` from `keras.models`\n",
    "from tensorflow.keras.models import Sequential\n",
    "\n",
    "# Import `Dense` from `keras.layers`\n",
    "from tensorflow.keras.layers import Dense,Dropout, Flatten\n",
    "\n",
    "# Initialize the constructor\n",
    "model = Sequential()\n",
    "\n",
    "# Add an input layer \n",
    "model.add(Dense(20, activation='relu', input_shape=(43,)))\n",
    "\n",
    "# Add one hidden layer \n",
    "model.add(Dense(40, activation='relu'))\n",
    "model.add(Dense(80, activation='relu'))\n",
    "#model.add(Dropout(0.27))\n",
    "\n",
    "\n",
    "# Add an output layer \n",
    "model.add(Flatten())\n",
    "model.add(Dense(40, activation='relu'))\n",
    "#model.add(Dropout(0.27))\n",
    "model.add(Dense(1, activation='sigmoid'))"
   ]
  },
  {
   "cell_type": "code",
   "execution_count": 4,
   "id": "360bde6b-0a18-47b9-8694-c4be46807531",
   "metadata": {},
   "outputs": [
    {
     "name": "stdout",
     "output_type": "stream",
     "text": [
      "Epoch 1/7\n",
      "7378/7378 [==============================] - 8s 998us/step - loss: 2.0203 - accuracy: 0.9517 - val_loss: 0.1268 - val_accuracy: 0.9774\n",
      "Epoch 2/7\n",
      "7378/7378 [==============================] - 9s 1ms/step - loss: 0.1368 - accuracy: 0.9748 - val_loss: 0.0943 - val_accuracy: 0.9793\n",
      "Epoch 3/7\n",
      "7378/7378 [==============================] - 8s 1ms/step - loss: 0.1078 - accuracy: 0.9777 - val_loss: 0.0918 - val_accuracy: 0.9800\n",
      "Epoch 4/7\n",
      "7378/7378 [==============================] - 8s 1ms/step - loss: 0.0904 - accuracy: 0.9797 - val_loss: 0.0914 - val_accuracy: 0.9804\n",
      "Epoch 5/7\n",
      "7378/7378 [==============================] - 7s 889us/step - loss: 0.0871 - accuracy: 0.9801 - val_loss: 0.0747 - val_accuracy: 0.9815\n",
      "Epoch 6/7\n",
      "7378/7378 [==============================] - 7s 960us/step - loss: 0.0831 - accuracy: 0.9804 - val_loss: 0.0901 - val_accuracy: 0.9798\n",
      "Epoch 7/7\n",
      "7378/7378 [==============================] - 7s 934us/step - loss: 0.0790 - accuracy: 0.9808 - val_loss: 0.0769 - val_accuracy: 0.9803\n"
     ]
    }
   ],
   "source": [
    "from tensorflow.keras.optimizers import Adam\n",
    "Adam(\n",
    "   learning_rate = 0.000005)\n",
    "\n",
    "model.compile(loss='binary_crossentropy',\n",
    "              optimizer='adam',\n",
    "              metrics=['accuracy'])\n",
    "                   \n",
    "history = model.fit(X_train_stratified, y_train_stratified,epochs=7, batch_size=50,validation_data=(X_test_stratified, y_test_stratified))\n",
    "tx = model.history.history['loss']\n",
    "ty = model.history.history['accuracy']\n",
    "txx = model.history.history['val_loss']\n",
    "tyy = model.history.history['val_accuracy']"
   ]
  },
  {
   "cell_type": "code",
   "execution_count": 5,
   "id": "fdd6ec07-b1b1-4778-b858-0ef8d5aa5124",
   "metadata": {},
   "outputs": [
    {
     "name": "stdout",
     "output_type": "stream",
     "text": [
      "dict_keys(['loss', 'accuracy', 'val_loss', 'val_accuracy'])\n"
     ]
    },
    {
     "data": {
      "image/png": "[encoded data removed]",
      "text/plain": [
       "<Figure size 432x288 with 1 Axes>"
      ]
     },
     "metadata": {
      "needs_background": "light"
     },
     "output_type": "display_data"
    },
    {
     "data": {
      "image/png": "[encoded data removed]",
      "text/plain": [
       "<Figure size 432x288 with 1 Axes>"
      ]
     },
     "metadata": {
      "needs_background": "light"
     },
     "output_type": "display_data"
    }
   ],
   "source": [
    "print(history.history.keys())\n",
    "# summarize history for accuracy\n",
    "plt.plot(history.history['accuracy'])\n",
    "plt.plot(history.history['val_accuracy'])\n",
    "plt.title('model accuracy')\n",
    "plt.ylabel('accuracy')\n",
    "plt.xlabel('epoch')\n",
    "plt.legend(['train', 'test'], loc='upper left')\n",
    "plt.show()\n",
    "# summarize history for loss\n",
    "plt.plot(history.history['loss'])\n",
    "plt.plot(history.history['val_loss'])\n",
    "plt.title('model loss')\n",
    "plt.ylabel('loss')\n",
    "plt.xlabel('epoch')\n",
    "plt.legend(['train', 'test'], loc='upper left')\n",
    "plt.show()"
   ]
  },
  {
   "cell_type": "code",
   "execution_count": 6,
   "id": "82202b5e-4726-49e1-b197-c61ad1ae7d31",
   "metadata": {},
   "outputs": [
    {
     "name": "stdout",
     "output_type": "stream",
     "text": [
      "[[9.8894346e-01]\n",
      " [9.9383402e-01]\n",
      " [9.5958424e-01]\n",
      " ...\n",
      " [9.9500585e-01]\n",
      " [9.9013543e-01]\n",
      " [1.4357259e-13]]\n"
     ]
    }
   ],
   "source": [
    "y_pred = model.predict(X_test_stratified)\n",
    "print(y_pred)"
   ]
  },
  {
   "cell_type": "code",
   "execution_count": 7,
   "id": "176d9a04-b88b-4251-b6c3-08257a189309",
   "metadata": {},
   "outputs": [
    {
     "name": "stdout",
     "output_type": "stream",
     "text": [
      "2882/2882 [==============================] - 2s 525us/step - loss: 0.0769 - accuracy: 0.9803\n",
      "[0.07693663984537125, 0.9803187847137451]\n"
     ]
    }
   ],
   "source": [
    "score = model.evaluate(X_test_stratified, y_test_stratified)\n",
    "\n",
    "print(score)"
   ]
  },
  {
   "cell_type": "code",
   "execution_count": 8,
   "id": "a07331c9-5190-46e8-b808-d38e10731a6b",
   "metadata": {},
   "outputs": [
    {
     "name": "stdout",
     "output_type": "stream",
     "text": [
      "0.9782400684234656\n"
     ]
    },
    {
     "data": {
      "text/plain": [
       "[<matplotlib.lines.Line2D at 0x219057ea608>]"
      ]
     },
     "execution_count": 8,
     "metadata": {},
     "output_type": "execute_result"
    },
    {
     "data": {
      "image/png": "[encoded data removed]",
      "text/plain": [
       "<Figure size 432x288 with 1 Axes>"
      ]
     },
     "metadata": {
      "needs_background": "light"
     },
     "output_type": "display_data"
    }
   ],
   "source": [
    "auc = metrics.roc_auc_score(y_test_stratified, y_pred)\n",
    "print(auc)\n",
    "fpr, tpr, threshold = metrics.roc_curve(y_test_stratified, y_pred,drop_intermediate=False)\n",
    "roc_auc = metrics.auc(fpr, tpr)\n",
    "plt.plot(fpr, tpr)"
   ]
  },
  {
   "cell_type": "code",
   "execution_count": 9,
   "id": "5f71273d-b405-495e-aab1-8c7260aedb5c",
   "metadata": {},
   "outputs": [
    {
     "name": "stdout",
     "output_type": "stream",
     "text": [
      "0.500065138544727\n"
     ]
    }
   ],
   "source": [
    "dummy_clf = DummyClassifier(strategy='stratified')\n",
    "dummy_clf.fit(X_train_stratified,y_train_stratified)\n",
    "\n",
    "y_pred_dummy = dummy_clf.predict(X_test_stratified)\n",
    "aucc = metrics.roc_auc_score(y_test_stratified, y_pred_dummy)\n",
    "print(aucc)"
   ]
  },
  {
   "cell_type": "code",
   "execution_count": 10,
   "id": "67067c86-59da-4e17-88b9-931af601aa86",
   "metadata": {},
   "outputs": [
    {
     "name": "stdout",
     "output_type": "stream",
     "text": [
      "[[1]\n",
      " [1]\n",
      " [1]\n",
      " ...\n",
      " [1]\n",
      " [1]\n",
      " [0]]\n",
      "[[ 8318  1768]\n",
      " [   47 82087]]\n"
     ]
    }
   ],
   "source": [
    "from sklearn.metrics import confusion_matrix\n",
    "y_pred = np.where(y_pred < 0.5, 0, 1)\n",
    "actual = y_test_stratified\n",
    "predicted = y_pred\n",
    "print(y_pred)\n",
    "conf_mat = confusion_matrix(y_test_stratified,y_pred) \n",
    "print(conf_mat)"
   ]
  },
  {
   "cell_type": "code",
   "execution_count": 11,
   "id": "59501fa0-47e6-4ee3-9eaa-53ef2bee6837",
   "metadata": {},
   "outputs": [
    {
     "name": "stdout",
     "output_type": "stream",
     "text": [
      "INFO:tensorflow:Assets written to: my_model\\assets\n"
     ]
    }
   ],
   "source": [
    "model.save(\"my_model\")"
   ]
  },
  {
   "cell_type": "code",
   "execution_count": null,
   "id": "2244b47a-1bd0-4c16-a3d5-be356e54e8d6",
   "metadata": {},
   "outputs": [],
   "source": []
  },
  {
   "cell_type": "code",
   "execution_count": null,
   "id": "3f770bc4-a988-4da3-9f1e-834eee3db787",
   "metadata": {},
   "outputs": [],
   "source": []
  },
  {
   "cell_type": "code",
   "execution_count": null,
   "id": "f1702e77-c359-452a-8949-e4e8ed70020f",
   "metadata": {},
   "outputs": [],
   "source": []
  }
 ],
 "metadata": {
  "kernelspec": {
   "display_name": "Python 3 (ipykernel)",
   "language": "python",
   "name": "python3"
  },
  "language_info": {
   "codemirror_mode": {
    "name": "ipython",
    "version": 3
   },
   "file_extension": ".py",
   "mimetype": "text/x-python",
   "name": "python",
   "nbconvert_exporter": "python",
   "pygments_lexer": "ipython3",
   "version": "3.7.8"
  }
 },
 "nbformat": 4,
 "nbformat_minor": 5
}
